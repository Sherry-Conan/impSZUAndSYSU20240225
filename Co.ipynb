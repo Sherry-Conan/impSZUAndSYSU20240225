{
 "cells": [
  {
   "cell_type": "code",
   "execution_count": null,
   "metadata": {},
   "outputs": [],
   "source": [
    "Short_t NSINC = 5; \n",
    "TFile *file = new TFile(Form(\"../../Data/TSINC/T16N8R25L%droot%04d.root\", NSINC, 4143)); \n",
    "\n",
    "TTree* fChain = (TTree*)file -> Get(\"tree\"); \n",
    "\n",
    "TCanvas* c = new TCanvas(); "
   ]
  },
  {
   "cell_type": "code",
   "execution_count": null,
   "metadata": {},
   "outputs": [],
   "source": [
    "Short_t\t\thit = 0; \n",
    "Short_t\t\tCh[46]; \n",
    "Short_t\t\tCid[46]; \n",
    "Short_t\t\tSid[46]; \n",
    "Double_t\tEvte[46]; \n",
    "Long64_t\tTs[46]; \n",
    "Double_t\tCfd[46]; \n",
    "Short_t\t\tIndex[46]; \n",
    "// Double_t\tM[46]; "
   ]
  },
  {
   "cell_type": "code",
   "execution_count": null,
   "metadata": {},
   "outputs": [],
   "source": [
    "fChain -> SetBranchAddress(\"hit\", &hit); \n",
    "fChain -> SetBranchAddress(\"cid\", Cid); \n",
    "fChain -> SetBranchAddress(\"sid\", Sid); \n",
    "fChain -> SetBranchAddress(\"ch\", Ch); \n",
    "fChain -> SetBranchAddress(\"evte\", Evte); \n",
    "fChain -> SetBranchAddress(\"ts\", Ts); \n",
    "fChain -> SetBranchAddress(\"cfd\", Cfd); \n",
    "fChain -> SetBranchAddress(\"index\", Index); \n",
    "// fChain -> SetBranchAddress(\"M\", M); "
   ]
  },
  {
   "cell_type": "code",
   "execution_count": null,
   "metadata": {},
   "outputs": [],
   "source": [
    "void ReadOut(std::ifstream &kbFile, Double_t *TimeLaBr){\n",
    "\tstd::string line; \n",
    "\tInt_t j = 0; \n",
    "\twhile (std::getline(kbFile, line))\t{ //循环读取每一行\n",
    "\t\tDouble_t Number; //创建整数变量\n",
    "\t\tstd::stringstream ss(line); //将字符串转换为数据流\n",
    "\t\tfor(Short_t i = 0; i < 9; i++){\n",
    "\t\t\tss >> Number; \n",
    "\t\t\t*(TimeLaBr + i + j * 9) = Number; //将数字添加到一维数组中\n",
    "\t\t\tstd::cout<<Number<<\"\\t\"; \n",
    "\t\t}\n",
    "\t\tstd::cout<<std::endl; \n",
    "\t\tj += 1; \n",
    "\t}\n",
    "}"
   ]
  },
  {
   "cell_type": "code",
   "execution_count": null,
   "metadata": {},
   "outputs": [],
   "source": [
    "Double_t\tTimeLaBr[10][9]; \n",
    "std::ifstream kbFile(Form(\"Time%04d.txt\", 4143)); // 打开文件\n",
    "ReadOut(kbFile, TimeLaBr[0]); "
   ]
  },
  {
   "cell_type": "code",
   "execution_count": null,
   "metadata": {},
   "outputs": [],
   "source": [
    "TH2D* Energy_Energy = new TH2D(\"Energy_Energy\", \"Energy_Energy\", 1600, 0, 1600, 1600, 0, 1600); \n",
    "TH1D* h1332_1173 = new TH1D(\"h1332_1173\", \"Time1332-1173\", 400, -2000, 2000); \n",
    "TH1D* h1173_1332 = new TH1D(\"h_1173\", \"Time1332-1173\", 400, -2000, 2000); \n",
    "TH1D* h511_1173 = new TH1D(\"h511_1173\", \"Time511-1173\", 400, -2000, 2000); \n",
    "TH2D* hALL_1173 = new TH2D(\"hALL_1173\", \"TimeALL-1173\", 1600, 0, 1600, 4000, -2000, 2000); \n",
    "TH1D* h1173 = new TH1D(\"h1173\", \"\\\\hbox{Ni在1173keV的开窗谱}\", 1500, 0, 1500); \n",
    "TH1I* hEnergy = new TH1I(\"hEnergy\", \"hEnergy\", 1000, 0, 6000); \n",
    "TH1I* hcfd = new TH1I(\"hcfd\", \"cfd\", 2200, -100, 2100); "
   ]
  },
  {
   "cell_type": "code",
   "execution_count": null,
   "metadata": {},
   "outputs": [],
   "source": [
    "Long64_t Nentry = fChain -> GetEntries(); \n",
    "Double_t dT; \n",
    "for(Long64_t Ientry = 0; Ientry < Nentry; Ientry++){\n",
    "\tfChain -> GetEntry(Ientry); \n",
    "\tfor(Short_t j = 0; j < hit; j++)\n",
    "\t{\n",
    "\t\tif(Ch[j] == 1) hEnergy -> Fill(M[j]); \n",
    "\t\thcfd -> Fill(Cfd[j]); \n",
    "\t\tfor(Short_t i = 0; i < hit; i++)\tif(Ch[i] > Ch[j])\n",
    "\t\t{\n",
    "\t\t\tEnergy_Energy -> Fill(Evte[j], Evte[i]); \n",
    "\t\t\tif((Evte[j] > 1160 && Evte[j] < 1190))\n",
    "\t\t\t{\n",
    "\t\t\t\th1173 -> Fill(Evte[i]); \n",
    "\t\t\t\tdT = Cfd[i] - Cfd[j] + (Ts[i] - Ts[j]) * 10000 + (Index[i] - Index[j]) * 2000 - TimeLaBr[Ch[i]][Ch[j]]; \n",
    "\t\t\t\thALL_1173 -> Fill(Evte[i], dT); \n",
    "\t\t\t\tif(Evte[i] > 1320 && Evte[i] < 1350){\n",
    "\t\t\t\t\th1332_1173 -> Fill(dT); \n",
    "\t\t\t\t}\n",
    "\t\t\t}\n",
    "\t\t\tif((Evte[i] > 1160 && Evte[i] < 1190))\n",
    "\t\t\t{\n",
    "\t\t\t\tif(Evte[j] > 1320 && Evte[j] < 1350){\n",
    "\t\t\t\t\tdT = Cfd[i] - Cfd[j] + (Ts[i] - Ts[j]) * 10000 + (Index[i] - Index[j]) * 2000 - TimeLaBr[Ch[i]][Ch[j]]; \n",
    "\t\t\t\t\th1173_1332 -> Fill(dT); \n",
    "\t\t\t\t}\n",
    "\t\t\t}\n",
    "\t\t}\n",
    "\t}\n",
    "}"
   ]
  },
  {
   "cell_type": "code",
   "execution_count": null,
   "metadata": {},
   "outputs": [],
   "source": [
    "//%jsroot\n",
    "TF1 *f = new TF1(\"f\", \"gaus\"); \n",
    "//h1332_1173 -> SetLineColor(kGreen);\n",
    "h1332_1173 -> Fit(f, \"\", \"\", -200, 200); \n",
    "h1332_1173 -> Draw(); \n",
    "// h1173_1332 -> Draw(); \n",
    "c -> Draw(); "
   ]
  },
  {
   "cell_type": "code",
   "execution_count": null,
   "metadata": {},
   "outputs": [],
   "source": [
    "h1173_1332 -> Draw(); \n",
    "c -> Draw(); "
   ]
  },
  {
   "cell_type": "code",
   "execution_count": null,
   "metadata": {},
   "outputs": [],
   "source": [
    "hALL_1173->Draw(\"colz\"); \n",
    "c -> Draw()"
   ]
  },
  {
   "cell_type": "code",
   "execution_count": null,
   "metadata": {},
   "outputs": [],
   "source": [
    "hcfd -> Draw(); \n",
    "c -> Draw(); "
   ]
  },
  {
   "cell_type": "code",
   "execution_count": null,
   "metadata": {},
   "outputs": [],
   "source": [
    "// TFile* fff = new TFile(\"cfdTimeL.root\", \"update\"); \n",
    "// fff -> WriteObject(hcfd, Form(\"hcfdL%02d\", NSINC)); \n",
    "// fff -> Close(); "
   ]
  },
  {
   "cell_type": "code",
   "execution_count": null,
   "metadata": {},
   "outputs": [],
   "source": [
    "//%jsroot\n",
    "\n",
    "hEnergy -> Draw(); \n",
    "hEnergy -> Fit(\"gaus\", \"\", \"\", 5100, 5400); \n",
    "c -> Draw(); "
   ]
  },
  {
   "cell_type": "code",
   "execution_count": null,
   "metadata": {},
   "outputs": [],
   "source": [
    "// TFile* fffE = new TFile(\"EnergyN16.root\", \"update\"); \n",
    "// fffE -> WriteObject(hEnergy, Form(\"hE%02d\", NSINC)); \n",
    "// fffE -> Close(); "
   ]
  },
  {
   "cell_type": "code",
   "execution_count": null,
   "metadata": {},
   "outputs": [],
   "source": [
    "// //%jsroot\n",
    "// TH1I *h = (TH1I*)hALL_1173->ProfileX(); \n",
    "// h -> Draw(\"HIST\"); \n",
    "// c -> Draw(); "
   ]
  },
  {
   "cell_type": "code",
   "execution_count": null,
   "metadata": {},
   "outputs": [],
   "source": [
    "TGraphErrors *g = new TGraphErrors(); \n",
    "Double_t x[] = {0.5, 1, 1.5, 2, 4, 8, 20}; \n",
    "Double_t y[] = {142.853, 140.428, 140.778, 140.558, 140.604, 140.743, 140.829}; \n",
    "Double_t z[] = {0.52709, 0.499979, 0.503744, 0.50198, 0.502051, 0.503314, 0.50418}; \n",
    "for(Short_t i = 0; i < 7; i++)\tg -> AddPoint(x[i], y[i]); \n",
    "for(Short_t i = 0; i < 7; i++)\tg -> SetPointError(i, 0, z[i]); "
   ]
  },
  {
   "cell_type": "code",
   "execution_count": null,
   "metadata": {},
   "outputs": [],
   "source": [
    "g -> Draw(\"AP*\"); \n",
    "g -> Draw(\"same\"); \n",
    "c -> Draw(); "
   ]
  },
  {
   "cell_type": "code",
   "execution_count": null,
   "metadata": {},
   "outputs": [],
   "source": [
    "TFile *f = new TFile(\"cfdTime.root\", \"read\"); \n",
    "Short_t List[7] = {1, 2, 3, 4, 8, 16, 40}; \n",
    "TCanvas *c = new TCanvas(); \n",
    "\n",
    "TH1I *h[8]; "
   ]
  },
  {
   "cell_type": "code",
   "execution_count": null,
   "metadata": {},
   "outputs": [],
   "source": [
    "h[7] = (TH1I*)f -> Get(\"XIAcfd\"); \n",
    "h[7] -> SetLineColor(8); \n",
    "h[7] -> Draw(); \n",
    "\n",
    "for(Short_t i = 0; i < 7; i++)\n",
    "{\n",
    "\th[i] = (TH1I*)f -> Get(Form(\"hcfd%02d\", List[i])); \n",
    "\th[i] -> SetLineColor(i + 1); \n",
    "\th[i] -> Draw(\"same\"); \n",
    "}"
   ]
  },
  {
   "cell_type": "code",
   "execution_count": null,
   "metadata": {},
   "outputs": [],
   "source": [
    "%jsroot\n",
    "for(Short_t i = 1; i < 7; i++)\n",
    "{\n",
    "}\n",
    "c -> Draw(); "
   ]
  },
  {
   "cell_type": "code",
   "execution_count": null,
   "metadata": {},
   "outputs": [],
   "source": [
    "TLegend *leg = new TLegend(0.1, 0.6, 0.2, 0.9); \n",
    "for(Short_t i = 0; i < 8; i++){leg -> AddEntry(h[i], Form(\"%s%02d\", h[i] -> GetTitle(), List[i]), \"l\"); }\n",
    "leg -> Draw(); \n",
    "c -> Draw(); "
   ]
  },
  {
   "cell_type": "code",
   "execution_count": null,
   "metadata": {},
   "outputs": [],
   "source": [
    "// c -> SaveAs(\"cfd.pdf\"); "
   ]
  },
  {
   "cell_type": "code",
   "execution_count": null,
   "metadata": {},
   "outputs": [],
   "source": [
    "TGraphErrors *g = new TGraphErrors(); \n",
    "Double_t x[] = {10, 20, 25, 30, 40}; \n",
    "Double_t y[] = {206.48, 144.402, 140.829, 145.065, 169.515}; \n",
    "Double_t z[] = {1.60033, 0.541695, 0.503314, 0.54967, 0.871675}; \n",
    "for(Short_t i = 0; i < 5; i++)\tg -> AddPoint(x[i], y[i]); \n",
    "for(Short_t i = 0; i < 5; i++)\tg -> SetPointError(i, 0, z[i]); "
   ]
  }
 ],
 "metadata": {
  "kernelspec": {
   "display_name": "ROOT C++",
   "language": "c++",
   "name": "root"
  },
  "language_info": {
   "codemirror_mode": "text/x-c++src",
   "file_extension": ".C",
   "mimetype": " text/x-c++src",
   "name": "c++"
  }
 },
 "nbformat": 4,
 "nbformat_minor": 2
}
